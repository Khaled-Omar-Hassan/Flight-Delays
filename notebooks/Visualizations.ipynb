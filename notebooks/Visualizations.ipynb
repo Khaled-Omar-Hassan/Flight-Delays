{
 "cells": [
  {
   "cell_type": "markdown",
   "metadata": {},
   "source": [
    "# Importing Libraries & Reading Data"
   ]
  },
  {
   "cell_type": "code",
   "execution_count": null,
   "metadata": {},
   "outputs": [],
   "source": [
    "import pandas as pd\n",
    "import numpy as np\n",
    "import matplotlib.pyplot as plt\n",
    "import seaborn as sns\n",
    "import plotly.express as px"
   ]
  },
  {
   "cell_type": "code",
   "execution_count": null,
   "metadata": {},
   "outputs": [],
   "source": [
    "pd.options.mode.copy_on_write = True\n",
    "pd.set_option('display.max_columns', None)\n",
    "pd.set_option('display.max_rows', None)"
   ]
  },
  {
   "cell_type": "code",
   "execution_count": null,
   "metadata": {},
   "outputs": [],
   "source": [
    "df = pd.read_csv('../sources/data/flights_cleaned.csv')"
   ]
  },
  {
   "cell_type": "code",
   "execution_count": null,
   "metadata": {},
   "outputs": [],
   "source": [
    "airports_df = pd.read_csv('../sources/data/airports.csv')\n",
    "airlines_df = pd.read_csv('../sources/data/airlines.csv')"
   ]
  },
  {
   "cell_type": "code",
   "execution_count": null,
   "metadata": {},
   "outputs": [],
   "source": [
    "df['Longitude'] = df.join(airports_df.set_index('IATA_CODE'), on='Origin_Airport')['LONGITUDE']\n",
    "df['Latitude'] = df.join(airports_df.set_index('IATA_CODE'), on='Origin_Airport')['LATITUDE']\n",
    "df['City'] = df.join(airports_df.set_index('IATA_CODE'), on='Origin_Airport')['CITY']\n",
    "df['State'] = df.join(airports_df.set_index('IATA_CODE'), on='Origin_Airport')['STATE']\n",
    "df['Origin_Airport'] = df.join(airports_df.set_index('IATA_CODE'), on='Origin_Airport')['AIRPORT']\n",
    "df['Airline'] = df.join(airlines_df.set_index('IATA_CODE'), on='Airline')['AIRLINE']"
   ]
  },
  {
   "cell_type": "markdown",
   "metadata": {},
   "source": [
    "# Visualizations"
   ]
  },
  {
   "cell_type": "markdown",
   "metadata": {},
   "source": [
    "## 1. Flight Delays"
   ]
  },
  {
   "cell_type": "markdown",
   "metadata": {},
   "source": [
    "### 1.1 What is the average Arrival delay for each airline?"
   ]
  },
  {
   "cell_type": "code",
   "execution_count": null,
   "metadata": {},
   "outputs": [],
   "source": [
    "grouped_df = df.groupby('Airline')['Departure_Delay'].mean().reset_index().sort_values(by='Departure_Delay', ascending=False)\n",
    "grouped_df['Departure_Delay'] = grouped_df['Departure_Delay'].round(2)\n",
    "fig = px.bar(grouped_df, x='Airline', y='Departure_Delay', \n",
    "             title=\"Average Departure Delay by Airline\",\n",
    "             labels={'Departure_Delay': 'Average Departure Delay (minutes)', 'Airline': 'Airline'},\n",
    "             color='Departure_Delay',\n",
    "             color_continuous_scale='Blues')\n",
    "\n",
    "fig.update_layout(\n",
    "    xaxis_title=\"Airline\",\n",
    "    yaxis_title=\"Average Departure Delay (minutes)\",\n",
    "    title_x=0.5,\n",
    "    template=\"plotly_dark\"\n",
    ")\n",
    "fig.show()\n",
    "del grouped_df\n",
    "del fig"
   ]
  },
  {
   "cell_type": "markdown",
   "metadata": {},
   "source": [
    "### 1.2 Which airport has the highest average departure or arrival delay?"
   ]
  },
  {
   "cell_type": "code",
   "execution_count": null,
   "metadata": {},
   "outputs": [],
   "source": [
    "grouped_df = df.groupby('Origin_Airport')['Departure_Delay'].mean().reset_index().sort_values(by='Departure_Delay', ascending=False)\n",
    "grouped_df['Departure_Delay'] = grouped_df['Departure_Delay'].round(2)\n",
    "\n",
    "# Average Departure Delay by Airport\n",
    "fig = px.bar(grouped_df.head(10), x='Origin_Airport', y='Departure_Delay', \n",
    "             title=\"Top 10 Average Departure Delay by Origin_Airport\",\n",
    "             labels={'Departure_Delay': 'Average Departure Delay (minutes)', 'Origin_Airport': 'Origin_Airport'},\n",
    "             color='Departure_Delay',\n",
    "             color_continuous_scale='Blues')\n",
    "\n",
    "fig.update_layout(\n",
    "    xaxis_title=\"Origin_Airport\",\n",
    "    yaxis_title=\"Average Departure Delay (minutes)\",\n",
    "    title_x=0.5,\n",
    "    template=\"plotly_dark\"\n",
    ")\n",
    "fig.show()\n",
    "del grouped_df\n",
    "del fig"
   ]
  },
  {
   "cell_type": "code",
   "execution_count": null,
   "metadata": {},
   "outputs": [],
   "source": [
    "grouped_df = df.groupby('Destination_Airport')['Arrival_Delay'].mean().reset_index().sort_values(by='Arrival_Delay', ascending=False)\n",
    "grouped_df['Arrival_Delay'] = grouped_df['Arrival_Delay'].round(2)\n",
    "\n",
    "# Average Arrival Delay by Airport\n",
    "fig = px.bar(grouped_df.head(10), x='Destination_Airport', y='Arrival_Delay', \n",
    "             title=\"Top 10 Average Arrival Delay by Destination_Airport\",\n",
    "             labels={'Arrival_Delay': 'Average Arrival Delay (minutes)', 'Destination_Airport': 'Destination_Airport'},\n",
    "             color='Arrival_Delay',\n",
    "             color_continuous_scale='Blues')\n",
    "\n",
    "fig.update_layout(\n",
    "    xaxis_title=\"Destination_Airport\",\n",
    "    yaxis_title=\"Average Arrival Delay (minutes)\",\n",
    "    title_x=0.5,\n",
    "    template=\"plotly_dark\"\n",
    ")\n",
    "fig.show()\n",
    "\n",
    "del grouped_df\n",
    "del fig\n"
   ]
  },
  {
   "cell_type": "markdown",
   "metadata": {},
   "source": [
    "### 1.3 How do delays vary based on the day of the week or time of day?"
   ]
  },
  {
   "cell_type": "code",
   "execution_count": null,
   "metadata": {},
   "outputs": [],
   "source": [
    "grouped_df = df.groupby('Day_Of_Week')['Departure_Delay'].mean().reset_index().sort_values(by='Day_Of_Week', ascending=True)\n",
    "grouped_df['Departure_Delay'] = grouped_df['Departure_Delay'].round(2)\n",
    "grouped_df['Day_Of_Week'] = grouped_df['Day_Of_Week'].map({1: 'Monday', 2: 'Tuesday', 3: 'Wednesday', 4: 'Thursday', 5: 'Friday', 6: 'Saturday', 7: 'Sunday'})\n",
    "\n",
    "# Average Delay by Day of the Week\n",
    "fig = px.bar(grouped_df, x='Day_Of_Week', y='Departure_Delay',\n",
    "             title=\"Departure Delay by Day of the Week\",\n",
    "             labels={'Departure_Delay': 'Departure Delay (minutes)', 'Day_Of_Week': 'Day of the Week'},\n",
    "             color='Day_Of_Week',\n",
    "             color_discrete_sequence=['aqua'])\n",
    "\n",
    "fig.update_layout(\n",
    "    xaxis_title=\"Day of the Week\",\n",
    "    yaxis_title=\"Departure Delay (minutes)\",\n",
    "    title_x=0.5,\n",
    "    template=\"plotly_dark\"\n",
    ")\n",
    "fig.show()\n",
    "\n",
    "del grouped_df\n",
    "del fig"
   ]
  },
  {
   "cell_type": "code",
   "execution_count": null,
   "metadata": {},
   "outputs": [],
   "source": [
    "df['Hour'] = df['Scheduled_Departure'].apply(lambda x: x[0:2])\n",
    "grouped_df = df.groupby(\"Hour\")['Departure_Delay'].mean().reset_index().sort_values(by='Hour', ascending=True)\n",
    "grouped_df['Hour'] = grouped_df['Hour'].astype(int)\n",
    "grouped_df['Departure_Delay'] = grouped_df['Departure_Delay'].round(2)\n",
    "df.drop('Hour', axis=1, inplace=True)\n",
    "\n",
    "fig = px.bar(grouped_df, x='Hour', y='Departure_Delay', \n",
    "             title=\"Departure Delay by Hour of the Day\",\n",
    "             labels={'Departure_Delay': 'Departure Delay (minutes)', 'Hour': 'Hour of the Day'},\n",
    "             color='Hour',\n",
    "             color_continuous_scale='Cividis')\n",
    "\n",
    "fig.update_layout(\n",
    "    xaxis_title=\"Hour of the Day\",\n",
    "    yaxis_title=\"Departure Delay (minutes)\",\n",
    "    title_x=0.5,\n",
    "    template=\"plotly_dark\"\n",
    ")\n",
    "fig.show()\n",
    "\n",
    "del grouped_df\n",
    "del fig"
   ]
  },
  {
   "cell_type": "code",
   "execution_count": null,
   "metadata": {},
   "outputs": [],
   "source": [
    "grouped_df = df.groupby('Day_Of_Week')['Arrival_Delay'].mean().reset_index().sort_values(by='Day_Of_Week', ascending=True)\n",
    "grouped_df['Arrival_Delay'] = grouped_df['Arrival_Delay'].round(2)\n",
    "grouped_df['Day_Of_Week'] = grouped_df['Day_Of_Week'].map({1: 'Monday', 2: 'Tuesday', 3: 'Wednesday', 4: 'Thursday', 5: 'Friday', 6: 'Saturday', 7: 'Sunday'})\n",
    "\n",
    "# Average Delay by Day of the Week\n",
    "fig = px.bar(grouped_df, x='Day_Of_Week', y='Arrival_Delay',\n",
    "             title=\"Arrival Delay by Day of the Week\",\n",
    "             labels={'Arrival_Delay': 'Arrival Delay (minutes)', 'Day_Of_Week': 'Day of the Week'},\n",
    "             color='Day_Of_Week',\n",
    "             color_discrete_sequence=['aqua'])\n",
    "\n",
    "fig.update_layout(\n",
    "    xaxis_title=\"Day of the Week\",\n",
    "    yaxis_title=\"Arrival Delay (minutes)\",\n",
    "    title_x=0.5,\n",
    "    template=\"plotly_dark\"\n",
    ")\n",
    "fig.show()"
   ]
  },
  {
   "cell_type": "code",
   "execution_count": null,
   "metadata": {},
   "outputs": [],
   "source": [
    "df['Hour'] = df['Scheduled_Arrival'].apply(lambda x: str(x[0:2]).strip())\n",
    "grouped_df = df.groupby(\"Hour\")['Arrival_Delay'].mean().reset_index().sort_values(by='Hour', ascending=True)\n",
    "grouped_df['Hour'] = grouped_df['Hour'].astype(int)\n",
    "grouped_df['Arrival_Delay'] = grouped_df['Arrival_Delay'].round(2)\n",
    "grouped_df.drop(grouped_df[grouped_df['Hour'] == 24].index, inplace=True)\n",
    "grouped_df.reset_index(drop=True, inplace=True)\n",
    "df.drop('Hour', axis=1, inplace=True)\n",
    "\n",
    "fig = px.bar(grouped_df, x='Hour', y='Arrival_Delay', \n",
    "             title=\"Arrival Delay by Hour of the Day\",\n",
    "             labels={'Arrival_Delay': 'Arrival Delay (minutes)', 'Hour': 'Hour of the Day'},\n",
    "             color='Hour',\n",
    "             color_continuous_scale='blues')\n",
    "\n",
    "fig.update_layout(\n",
    "    xaxis_title=\"Hour of the Day\",\n",
    "    yaxis_title=\"Arrival Delay (minutes)\",\n",
    "    title_x=0.5,\n",
    "    template=\"plotly_dark\"\n",
    ")\n",
    "fig.show()\n",
    "\n",
    "del grouped_df\n",
    "del fig\n"
   ]
  },
  {
   "cell_type": "markdown",
   "metadata": {},
   "source": [
    "### 1.4. What is the distribution of arrival delays, and which flights consistently arrive ahead of schedule?"
   ]
  },
  {
   "cell_type": "code",
   "execution_count": null,
   "metadata": {},
   "outputs": [],
   "source": [
    "# Distribution of Arrival Delays\n",
    "fig = px.histogram(df, x='Arrival_Delay', nbins=50, \n",
    "                   title=\"Distribution of Arrival Delays\",\n",
    "                   labels={'Arrival_Delay': 'Arrival Delay (minutes)'},\n",
    "                   color_discrete_sequence=['aqua'])\n",
    "\n",
    "fig.update_layout(\n",
    "    xaxis_title=\"Arrival Delay (minutes)\",\n",
    "    yaxis_title=\"Number of Flights\",\n",
    "    title_x=0.5,\n",
    "    template=\"plotly_dark\"\n",
    ")\n",
    "fig.show()\n",
    "\n",
    "# Flights Arriving Ahead of Schedule\n",
    "df_early = df[df['Arrival_Delay'] < 0]\n",
    "fig = px.histogram(df_early, x='Arrival_Delay', nbins=30, \n",
    "                   title=\"Flights Arriving Ahead of Schedule\",\n",
    "                   labels={'Arrival_Delay': 'Early Arrival (minutes)'},\n",
    "                   color_discrete_sequence=['aqua'])\n",
    "\n",
    "fig.update_layout(\n",
    "    xaxis_title=\"Early Arrival (minutes)\",\n",
    "    yaxis_title=\"Number of Flights\",\n",
    "    title_x=0.5,\n",
    "    template=\"plotly_dark\"\n",
    ")\n",
    "fig.show()\n",
    "\n",
    "del df_early\n",
    "del fig"
   ]
  },
  {
   "cell_type": "markdown",
   "metadata": {},
   "source": [
    "## 2. Airline Performance"
   ]
  },
  {
   "cell_type": "markdown",
   "metadata": {},
   "source": [
    "### 2.1. Which airline has the best overall on-time performance?"
   ]
  },
  {
   "cell_type": "code",
   "execution_count": null,
   "metadata": {},
   "outputs": [],
   "source": [
    "df['On_Time'] = df['Arrival_Delay'] <= 0\n",
    "grouped_df = df.groupby('Airline')['On_Time'].aggregate(['sum', 'count']).reset_index()\n",
    "grouped_df['On_Time_Percentage'] = (grouped_df['sum'] / grouped_df['count']) * 100\n",
    "\n",
    "fig = px.histogram(grouped_df.sort_values(by='On_Time_Percentage', ascending=False), x='Airline', y='On_Time_Percentage', \n",
    "                   title=\"On-Time Performance by Airline\",\n",
    "                   labels={'On_Time': 'On-Time Arrival', 'Airline': 'Airline'},\n",
    "                   color='Airline',\n",
    "                   color_discrete_sequence=['aqua'])\n",
    "\n",
    "fig.update_layout(\n",
    "    xaxis_title=\"Airline\",\n",
    "    yaxis_title=\"Number of Flights\",\n",
    "    title_x=0.5,\n",
    "    template=\"plotly_dark\"\n",
    ")\n",
    "fig.show()\n",
    "\n",
    "del grouped_df\n",
    "del fig"
   ]
  },
  {
   "cell_type": "markdown",
   "metadata": {},
   "source": [
    "### 2.3. What are the average air time and elapsed time for each airline?"
   ]
  },
  {
   "cell_type": "code",
   "execution_count": null,
   "metadata": {},
   "outputs": [],
   "source": [
    "df_airline_time = df.groupby('Airline')[['Air_Time', 'Elapsed_Time']].mean().reset_index()\n",
    "fig = px.bar(df_airline_time, x='Airline', y=['Air_Time', 'Elapsed_Time'], \n",
    "             title=\"Average Air Time and Elapsed Time by Airline\",\n",
    "             labels={'value': 'Time (minutes)', 'variable': 'Time Metric', 'Airline': 'Airline'},\n",
    "             barmode='group',\n",
    "             color_discrete_sequence=['#636EFA', '#EF553B'])\n",
    "\n",
    "fig.update_layout(\n",
    "    xaxis_title=\"Airline\",\n",
    "    yaxis_title=\"Time (minutes)\",\n",
    "    title_x=0.5,\n",
    "    template=\"plotly_dark\"\n",
    ")\n",
    "fig.show()\n",
    "\n",
    "del df_airline_time\n",
    "del fig"
   ]
  },
  {
   "cell_type": "markdown",
   "metadata": {},
   "source": [
    "## 3. Airport Performance\n"
   ]
  },
  {
   "cell_type": "markdown",
   "metadata": {},
   "source": [
    "### 3.1. Which airports have the highest volume of flights, and how do they perform in terms of delays and cancellations?\n",
    "\n"
   ]
  },
  {
   "cell_type": "code",
   "execution_count": null,
   "metadata": {},
   "outputs": [],
   "source": [
    "df_airport_volume = df['Origin_Airport'].value_counts().reset_index().head(10)\n",
    "df_airport_volume.columns = ['Origin_Airport', 'Flight Count']\n",
    "\n",
    "fig = px.bar(df_airport_volume, x='Origin_Airport', y='Flight Count', \n",
    "             title=\"Flight Volume by Airport\",\n",
    "             labels={'Flight Count': 'Number of Flights', 'Origin_Airport': 'Airport'},\n",
    "             color='Flight Count',\n",
    "             color_continuous_scale='Blues')\n",
    "\n",
    "fig.update_layout(\n",
    "    xaxis_title=\"Airport\",\n",
    "    yaxis_title=\"Number of Flights\",\n",
    "    title_x=0.5,\n",
    "    template=\"plotly_dark\"\n",
    ")\n",
    "fig.show()\n",
    "\n",
    "del df_airport_volume\n",
    "del fig"
   ]
  },
  {
   "cell_type": "markdown",
   "metadata": {},
   "source": [
    "### 3.2. What is the average taxi time (out and in) for each airport, and how does it affect overall delays?"
   ]
  },
  {
   "cell_type": "code",
   "execution_count": null,
   "metadata": {},
   "outputs": [],
   "source": [
    "df_airport_taxi = df.groupby('Origin_Airport')[['Taxi_Out', 'Taxi_In', 'Arrival_Delay']].mean().reset_index()\n",
    "df_airport_taxi['Total_Taxi'] = df_airport_taxi['Taxi_Out'] + df_airport_taxi['Taxi_In']\n",
    "fig = px.bar(df_airport_taxi.sort_values(by='Total_Taxi', ascending=False).head(10), x='Origin_Airport', y=\"Total_Taxi\", \n",
    "             title=\"Average Taxi Time by Airport\",\n",
    "             labels={'value': 'Taxi Time (minutes)', 'variable': 'Taxi Metric', 'Origin_Airport': 'Airport'},\n",
    "             color='Total_Taxi',\n",
    "             color_continuous_scale='blues')\n",
    "\n",
    "fig.update_layout(\n",
    "    xaxis_title=\"Airport\",\n",
    "    yaxis_title=\"Taxi Time (minutes)\",\n",
    "    title_x=0.5,\n",
    "    template=\"plotly_dark\"\n",
    ")\n",
    "fig.show()\n",
    "\n",
    "del df_airport_taxi\n",
    "del fig"
   ]
  },
  {
   "cell_type": "markdown",
   "metadata": {},
   "source": [
    "## 4. Geographic Analysis"
   ]
  },
  {
   "cell_type": "markdown",
   "metadata": {},
   "source": [
    "### 4.1. Which airports have the highest volume of flights"
   ]
  },
  {
   "cell_type": "code",
   "execution_count": null,
   "metadata": {},
   "outputs": [],
   "source": [
    "# Count the number of flights from each airport\n",
    "df_airport_volume = df['Origin_Airport'].value_counts().reset_index()\n",
    "df_airport_volume.columns = ['Origin_Airport', 'Flight_Count']\n",
    "\n",
    "# Make sure the correct lat/lon are assigned to corresponding airports\n",
    "df_airport_volume[['Latitude', 'Longitude']] = df[['Latitude', 'Longitude']]\n",
    "\n",
    "# Add jitter to Latitude and Longitude\n",
    "df_airport_volume['Latitude_jitter'] = df_airport_volume['Latitude'] + np.random.normal(0, 1, size=len(df_airport_volume))\n",
    "df_airport_volume['Longitude_jitter'] = df_airport_volume['Longitude'] + np.random.normal(0, 1, size=len(df_airport_volume))\n",
    "\n",
    "# Create the map with jittered lat/lon\n",
    "fig = px.scatter_mapbox(df_airport_volume, lat='Latitude_jitter', lon='Longitude_jitter', \n",
    "                        size='Flight_Count',  # Vary size based on flight count\n",
    "                        color='Flight_Count',  # Vary color based on flight count\n",
    "                        hover_name='Origin_Airport',\n",
    "                        title=\"Geographic Distribution of Flights by Airport\",\n",
    "                        labels={'Flight_Count': 'Number of Flights'},\n",
    "                        color_continuous_scale='Turbo',\n",
    "                        zoom=3)\n",
    "\n",
    "# Customize the layout and background\n",
    "fig.update_layout(\n",
    "    mapbox_style=\"open-street-map\",  \n",
    "    mapbox_center={\"lat\": 37.0902, \"lon\": -95.7129},  \n",
    "    title_x=0.5,\n",
    "    paper_bgcolor='rgba(0,0,0,0)',  \n",
    "    plot_bgcolor='rgba(0,0,0,0)',   \n",
    "    margin={\"r\":0,\"t\":0,\"l\":0,\"b\":0}\n",
    ")\n",
    "\n",
    "fig.show()\n",
    "\n",
    "del df_airport_volume\n",
    "del fig"
   ]
  },
  {
   "cell_type": "markdown",
   "metadata": {},
   "source": [
    "### 4.2 Which states or cities experience the most delays or cancellations?"
   ]
  },
  {
   "cell_type": "code",
   "execution_count": null,
   "metadata": {},
   "outputs": [],
   "source": [
    "df_state_delay = df.groupby('State')['Arrival_Delay'].mean().reset_index()\n",
    "\n",
    "# Create the choropleth map\n",
    "fig = px.choropleth(\n",
    "    df_state_delay,\n",
    "    locations='State',\n",
    "    locationmode='USA-states',\n",
    "    color='Arrival_Delay',\n",
    "    scope='usa',\n",
    "    title=\"Average Arrival Delay by State\",\n",
    "    labels={'Arrival_Delay': 'Average Arrival Delay (minutes)'},\n",
    "    color_continuous_scale='Blues'\n",
    ")\n",
    "\n",
    "# Update the layout to fix the black box and enhance visibility\n",
    "fig.update_layout(\n",
    "    title_x=0.5,\n",
    "    template=\"plotly_dark\",\n",
    "    paper_bgcolor='rgba(0,0,0,0)',    # Transparent figure background\n",
    "    plot_bgcolor='rgba(0,0,0,0)',     # Transparent plot background\n",
    "    geo=dict(\n",
    "        scope='usa',\n",
    "        bgcolor='rgba(0,0,0,0)',      # Transparent geo background\n",
    "        lakecolor='LightBlue',        # Optional: Set lake color\n",
    "        landcolor='rgba(0,0,0,0)',    # Transparent land color or set to a specific color\n",
    "        showlakes=True,\n",
    "        showcountries=False,\n",
    "        showcoastlines=False\n",
    "    ),\n",
    "    margin={\"r\":0, \"t\":50, \"l\":0, \"b\":0},  # Adjust margins\n",
    "    legend=dict(\n",
    "        font=dict(color=\"white\"),      # Legend text color\n",
    "        bgcolor='rgba(0,0,0,0)'        # Transparent legend background\n",
    "    ),\n",
    "    title_font=dict(color='white')      # Title font color\n",
    ")\n",
    "\n",
    "# Update hover label styling\n",
    "fig.update_traces(\n",
    "    hoverlabel=dict(\n",
    "        bgcolor=\"white\",\n",
    "        font_color=\"black\"\n",
    "    )\n",
    ")\n",
    "\n",
    "# Display the figure\n",
    "fig.show()\n",
    "\n",
    "del df_state_delay\n",
    "del fig"
   ]
  },
  {
   "cell_type": "markdown",
   "metadata": {},
   "source": [
    "### 4.3. Are there any patterns in delays or cancellations based on the geographic location of airports?"
   ]
  },
  {
   "cell_type": "code",
   "execution_count": null,
   "metadata": {},
   "outputs": [],
   "source": [
    "grouped_df = df.groupby('Origin_Airport')[['Arrival_Delay', 'Latitude', 'Longitude']].mean().reset_index().sort_values(by='Arrival_Delay', ascending=False)\n",
    "\n",
    "\n",
    "fig = px.scatter_mapbox(grouped_df, lat='Latitude', lon='Longitude', \n",
    "                        color='Arrival_Delay',\n",
    "                        hover_name='Origin_Airport',\n",
    "                        title=\"Geographic Distribution of Delays by Airport\",\n",
    "                        labels={'Arrival_Delay': 'Average Arrival Delay (minutes)'},\n",
    "                        color_continuous_scale='Turbo',\n",
    "                        zoom=3)\n",
    "\n",
    "fig.update_traces(marker=dict(size=15))\n",
    "fig.update_layout(\n",
    "    mapbox_style=\"open-street-map\",  \n",
    "    mapbox_center={\"lat\": 37.0902, \"lon\": -95.7129},  \n",
    "    title_x=0.5,\n",
    "    paper_bgcolor='rgba(0,0,0,0)',  # Set the background of the whole figure to transparent\n",
    "    plot_bgcolor='rgba(0,0,0,0)',   # Set the plot area background to transparent\n",
    "    margin={\"r\":0,\"t\":0,\"l\":0,\"b\":0}  # Reduce margins for a tighter fit\n",
    ")\n",
    "\n",
    "fig.show()\n",
    "\n",
    "del grouped_df\n",
    "del fig"
   ]
  },
  {
   "cell_type": "markdown",
   "metadata": {},
   "source": [
    "## 5. Cancellations and Diversions\n"
   ]
  },
  {
   "cell_type": "markdown",
   "metadata": {},
   "source": [
    "### 5.1. What are the most common reasons for flight cancellations?"
   ]
  },
  {
   "cell_type": "code",
   "execution_count": null,
   "metadata": {},
   "outputs": [],
   "source": [
    "# Correct mapping for the cancellation reasons\n",
    "df['Cancellation_Reason'] = df['Cancellation_Reason'].map({\n",
    "    'A': 'Airline/Carrier', \n",
    "    'B': 'Weather', \n",
    "    'C': 'National Air System', \n",
    "    'D': 'Security'\n",
    "})\n",
    "\n",
    "df_cancel_reasons = df['Cancellation_Reason'].value_counts().reset_index()\n",
    "df_cancel_reasons.columns = ['Cancellation Reason', 'Count']\n",
    "\n",
    "# Create the pie chart\n",
    "fig = px.pie(df_cancel_reasons, names='Cancellation Reason', values='Count', \n",
    "             title=\"Reasons for Flight Cancellations\",\n",
    "             color_discrete_sequence=px.colors.qualitative.Set3)\n",
    "\n",
    "# Update layout for better appearance\n",
    "fig.update_layout(\n",
    "    title_x=0.5,\n",
    "    template=\"plotly_dark\"\n",
    ")\n",
    "\n",
    "# Show the figure\n",
    "fig.show()\n",
    "\n",
    "del df_cancel_reasons\n",
    "del fig\n"
   ]
  },
  {
   "cell_type": "markdown",
   "metadata": {},
   "source": [
    "### 5.2. Which airlines and airports have the highest cancellation rates?"
   ]
  },
  {
   "cell_type": "code",
   "execution_count": null,
   "metadata": {},
   "outputs": [],
   "source": [
    "df_airline_cancel = df.groupby('Airline')['Cancelled'].mean().reset_index().sort_values(by='Cancelled', ascending=False).head(10)\n",
    "fig = px.bar(df_airline_cancel, x='Airline', y='Cancelled', \n",
    "             title=\"Cancellation Rates by Airline\",\n",
    "             labels={'Cancelled': 'Cancellation Rate', 'Airline': 'Airline'},\n",
    "             color='Cancelled',\n",
    "             color_continuous_scale='Blues')\n",
    "\n",
    "fig.update_layout(\n",
    "    xaxis_title=\"Airline\",\n",
    "    yaxis_title=\"Cancellation Rate\",\n",
    "    title_x=0.5,\n",
    "    template=\"plotly_dark\"\n",
    ")\n",
    "fig.show()\n",
    "\n",
    "df_airport_cancel = df.groupby('Origin_Airport')['Cancelled'].mean().reset_index().sort_values(by='Cancelled', ascending=False).head(10)\n",
    "fig = px.bar(df_airport_cancel, x='Origin_Airport', y='Cancelled', \n",
    "             title=\"Cancellation Rates by Airport\",\n",
    "             labels={'Cancelled': 'Cancellation Rate', 'Origin_Airport': 'Airport'},\n",
    "             color='Cancelled',\n",
    "             color_continuous_scale='Blues')\n",
    "\n",
    "fig.update_layout(\n",
    "    xaxis_title=\"Airport\",\n",
    "    yaxis_title=\"Cancellation Rate\",\n",
    "    title_x=0.5,\n",
    "    template=\"plotly_dark\"\n",
    ")\n",
    "fig.show()\n",
    "\n",
    "del df_airline_cancel\n",
    "del df_airport_cancel\n",
    "del fig"
   ]
  },
  {
   "cell_type": "markdown",
   "metadata": {},
   "source": [
    "### 5.3. Are there any patterns in cancellations or diversions based on the time of year?"
   ]
  },
  {
   "cell_type": "code",
   "execution_count": null,
   "metadata": {},
   "outputs": [],
   "source": [
    "df_cancel_month = df.groupby('Month')['Cancelled'].mean().reset_index()\n",
    "fig = px.line(df_cancel_month, x='Month', y='Cancelled', \n",
    "              title=\"Monthly Cancellation Rates\",\n",
    "              labels={'Cancelled': 'Cancellation Rate', 'Month': 'Month'},\n",
    "              color_discrete_sequence=['aqua'])\n",
    "\n",
    "fig.update_layout(\n",
    "    xaxis_title=\"Month\",\n",
    "    yaxis_title=\"Cancellation Rate\",\n",
    "    title_x=0.5,\n",
    "    template=\"plotly_dark\"\n",
    ")\n",
    "fig.show()\n",
    "\n",
    "df_divert_Month = df.groupby('Month')['Diverted'].mean().reset_index()\n",
    "fig = px.line(df_divert_Month, x='Month', y='Diverted', \n",
    "              title=\"Monthly Diversion Rates\",\n",
    "              labels={'Diverted': 'Diversion Rate', 'Month': 'Month'},\n",
    "              color_discrete_sequence=['aqua'])\n",
    "\n",
    "fig.update_layout(\n",
    "    xaxis_title=\"Month\",\n",
    "    yaxis_title=\"Diversion Rate\",\n",
    "    title_x=0.5,\n",
    "    template=\"plotly_dark\"\n",
    ")\n",
    "fig.show()\n",
    "\n",
    "del df_cancel_month\n",
    "del df_divert_Month\n",
    "del fig"
   ]
  },
  {
   "cell_type": "markdown",
   "metadata": {},
   "source": [
    "## 6. Time-Based Analysis\n"
   ]
  },
  {
   "cell_type": "markdown",
   "metadata": {},
   "source": [
    "### 6.1. Which days of the week have the most frequent delays ?"
   ]
  },
  {
   "cell_type": "code",
   "execution_count": null,
   "metadata": {},
   "outputs": [],
   "source": [
    "df_day_delay = df.groupby('Day_Of_Week')[['Departure_Delay', 'Arrival_Delay']].mean().reset_index()\n",
    "\n",
    "fig = px.line(df_day_delay, x='Day_Of_Week', y=['Departure_Delay', 'Arrival_Delay'], \n",
    "              title=\"Average Delays by Day of the Week\",\n",
    "              labels={'value': 'Average Delay (minutes)', 'Day_Of_Week': 'Day of the Week'},\n",
    "              markers=True,\n",
    "              color_discrete_sequence=['aqua', 'blue']\n",
    "              )\n",
    "\n",
    "fig.update_layout(\n",
    "    xaxis_title=\"Day of the Week\",\n",
    "    yaxis_title=\"Average Delay (minutes)\",\n",
    "    title_x=0.5,\n",
    "    template=\"plotly_dark\"\n",
    ")\n",
    "fig.show()\n",
    "\n",
    "\n",
    "\n",
    "del df_day_delay\n",
    "del fig"
   ]
  },
  {
   "cell_type": "markdown",
   "metadata": {},
   "source": [
    "### 6.2. Which days of the week have the most frequent Cancellations ?"
   ]
  },
  {
   "cell_type": "code",
   "execution_count": null,
   "metadata": {},
   "outputs": [],
   "source": [
    "df_day_cancel = df.groupby('Day_Of_Week')['Cancelled'].mean().reset_index()\n",
    "\n",
    "fig = px.bar(df_day_cancel, x='Day_Of_Week', y='Cancelled', \n",
    "             title=\"Cancellation Rates by Day of the Week\",\n",
    "             labels={'Cancelled': 'Cancellation Rate', 'Day_Of_Week': 'Day of the Week'},\n",
    "             color='Cancelled',\n",
    "             color_continuous_scale='Blues')\n",
    "\n",
    "fig.update_layout(\n",
    "    xaxis_title=\"Day of the Week\",\n",
    "    yaxis_title=\"Cancellation Rate\",\n",
    "    title_x=0.5,\n",
    "    template=\"plotly_dark\"\n",
    ")\n",
    "fig.show()\n",
    "\n",
    "del df_day_cancel\n",
    "del fig"
   ]
  },
  {
   "cell_type": "markdown",
   "metadata": {},
   "source": [
    "### 6.3. How does the time of day impact departure and arrival delays?\n",
    "\n"
   ]
  },
  {
   "cell_type": "code",
   "execution_count": null,
   "metadata": {},
   "outputs": [],
   "source": [
    "df['Hour'] = df['Scheduled_Arrival'].apply(lambda x: str(x[0:2]).strip()).astype(int)\n",
    "df_hour_delay = df.groupby('Hour')[['Departure_Delay', 'Arrival_Delay']].mean().reset_index()\n",
    "df_hour_delay.drop(df_hour_delay[df_hour_delay['Hour'] == 24].index, inplace=True)\n",
    "\n",
    "fig = px.line(df_hour_delay, x='Hour', y=['Departure_Delay', 'Arrival_Delay'], \n",
    "              title=\"Average Delays by Hour of the Day\",\n",
    "              labels={'value': 'Average Delay (minutes)', 'Hour': 'Hour of the Day'},\n",
    "              markers=True)\n",
    "\n",
    "fig.update_layout(\n",
    "    xaxis_title=\"Hour of the Day\",\n",
    "    yaxis_title=\"Average Delay (minutes)\",\n",
    "    title_x=0.5,\n",
    "    template=\"plotly_dark\"\n",
    ")\n",
    "fig.show()\n",
    "\n",
    "del df_hour_delay\n",
    "del fig"
   ]
  },
  {
   "cell_type": "markdown",
   "metadata": {},
   "source": [
    "### 6.4. Is there a specific time during the day when flights are more likely to be on time or delayed?\n",
    "\n"
   ]
  },
  {
   "cell_type": "code",
   "execution_count": null,
   "metadata": {},
   "outputs": [],
   "source": [
    "\n",
    "df['On_Time'] = df['Arrival_Delay'] <= 0\n",
    "df_on_time_rate = df.groupby('Hour')['On_Time'].mean().reset_index()\n",
    "df_on_time_rate.drop(df_on_time_rate[df_on_time_rate['Hour'] == 24].index, inplace=True)\n",
    "\n",
    "fig = px.line(df_on_time_rate, x='Hour', y='On_Time', \n",
    "              title=\"On-Time Performance by Hour of the Day\",\n",
    "              labels={'On_Time': 'On-Time Rate', 'Hour': 'Hour of the Day'},\n",
    "              markers=True,\n",
    "              color_discrete_sequence=['aqua'])\n",
    "\n",
    "fig.update_layout(\n",
    "    xaxis_title=\"Hour of the Day\",\n",
    "    yaxis_title=\"On-Time Rate\",\n",
    "    title_x=0.5,\n",
    "    template=\"plotly_dark\"\n",
    ")\n",
    "fig.show()\n",
    "\n",
    "del df_on_time_rate\n",
    "del fig"
   ]
  },
  {
   "cell_type": "markdown",
   "metadata": {},
   "source": [
    "### 6.5. How do flight delays vary by month, and are there seasonal trends?"
   ]
  },
  {
   "cell_type": "code",
   "execution_count": null,
   "metadata": {},
   "outputs": [],
   "source": [
    "df_month_delay = df.groupby('Month')[['Departure_Delay', 'Arrival_Delay']].mean().reset_index()\n",
    "\n",
    "fig = px.line(df_month_delay, x='Month', y=['Departure_Delay', 'Arrival_Delay'], \n",
    "              title=\"Average Delays by Month\",\n",
    "              labels={'value': 'Average Delay (minutes)', 'Month': 'Month'},\n",
    "              markers=True,\n",
    "              color_discrete_sequence=['aqua', 'blue']\n",
    "              )\n",
    "\n",
    "fig.update_layout(\n",
    "    xaxis_title=\"Month\",\n",
    "    yaxis_title=\"Average Delay (minutes)\",\n",
    "    title_x=0.5,\n",
    "    template=\"plotly_dark\"\n",
    ")\n",
    "fig.show()\n"
   ]
  }
 ],
 "metadata": {
  "kernelspec": {
   "display_name": "Python 3",
   "language": "python",
   "name": "python3"
  },
  "language_info": {
   "codemirror_mode": {
    "name": "ipython",
    "version": 3
   },
   "file_extension": ".py",
   "mimetype": "text/x-python",
   "name": "python",
   "nbconvert_exporter": "python",
   "pygments_lexer": "ipython3",
   "version": "3.12.3"
  }
 },
 "nbformat": 4,
 "nbformat_minor": 2
}
